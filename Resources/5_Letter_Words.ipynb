{
  "nbformat": 4,
  "nbformat_minor": 0,
  "metadata": {
    "colab": {
      "name": "5-Letter Words.ipynb",
      "provenance": [],
      "collapsed_sections": [],
      "authorship_tag": "ABX9TyNol7kmI5625b6BfYoEq1YG",
      "include_colab_link": true
    },
    "kernelspec": {
      "name": "python3",
      "display_name": "Python 3"
    },
    "language_info": {
      "name": "python"
    }
  },
  "cells": [
    {
      "cell_type": "markdown",
      "metadata": {
        "id": "view-in-github",
        "colab_type": "text"
      },
      "source": [
        "<a href=\"https://colab.research.google.com/github/pbeens/Programming-Word-Challenges/blob/main/5_Letter_Words.ipynb\" target=\"_parent\"><img src=\"https://colab.research.google.com/assets/colab-badge.svg\" alt=\"Open In Colab\"/></a>"
      ]
    },
    {
      "cell_type": "markdown",
      "metadata": {
        "id": "N1i7igk3gfgq"
      },
      "source": [
        "## Create 5-Letter Words List\n",
        "\n",
        "---\n",
        "This program uses a \"clean\" dictionary to extract all 5-letter words. Once the program has been run look for the file in the Files section on the left.\n",
        "\n",
        "This program can easily be adapted to create word lists that meet other criteria, depending on your needs.\n"
      ]
    },
    {
      "cell_type": "code",
      "metadata": {
        "id": "0z3FZN7R_AkS"
      },
      "source": [
        "# retrieve the file\n",
        "!wget 'https://raw.githubusercontent.com/pbeens/Programming-Word-Challenges/main/Datafiles/cleandict.txt'\n",
        "\n",
        "# assign the file to the variable 'file'.\n",
        "file = '/content/cleandict.txt'"
      ],
      "execution_count": null,
      "outputs": []
    },
    {
      "cell_type": "code",
      "metadata": {
        "id": "CrIWbYmaD7A0"
      },
      "source": [
        "# open file and create list\n",
        "with open(file) as f:\n",
        "  words = f.read().split()\n",
        "\n",
        "# print the first 10 words (warm fuzzy feeling)\n",
        "print(words[:10])"
      ],
      "execution_count": null,
      "outputs": []
    },
    {
      "cell_type": "code",
      "metadata": {
        "id": "apJWsNYz590l"
      },
      "source": [
        "# open file for writing\n",
        "f = open('5-letter-words.txt', 'w')\n",
        "\n",
        "# find and save the 5-letter words\n",
        "for word in words:\n",
        "  if len(word) == 5:\n",
        "    f.write(f'{word}\\n')\n",
        "f.close\n",
        "\n",
        "# Yay! \n",
        "print('Success! Download the file from the Files section on the left.')\n"
      ],
      "execution_count": null,
      "outputs": []
    },
    {
      "cell_type": "code",
      "metadata": {
        "id": "HmLd4f896aZS"
      },
      "source": [
        ""
      ],
      "execution_count": 3,
      "outputs": []
    }
  ]
}