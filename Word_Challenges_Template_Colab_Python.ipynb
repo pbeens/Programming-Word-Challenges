{
  "nbformat": 4,
  "nbformat_minor": 0,
  "metadata": {
    "colab": {
      "name": "Word Challenges Template - Colab Python.ipynb",
      "provenance": [],
      "collapsed_sections": [],
      "authorship_tag": "ABX9TyNVog9/sVJgU612fAqZj9R+",
      "include_colab_link": true
    },
    "kernelspec": {
      "name": "python370jvsc74a57bd08a428f088ac08f7fdf89fb2f4bb23c2bc8a83acc5d068a78d54410b8e3eeec73",
      "display_name": "Python 3.7.0 32-bit"
    },
    "language_info": {
      "name": "python",
      "version": "3.7.0"
    },
    "metadata": {
      "interpreter": {
        "hash": "8a428f088ac08f7fdf89fb2f4bb23c2bc8a83acc5d068a78d54410b8e3eeec73"
      }
    }
  },
  "cells": [
    {
      "cell_type": "markdown",
      "metadata": {
        "id": "view-in-github",
        "colab_type": "text"
      },
      "source": [
        "<a href=\"https://colab.research.google.com/github/pbeens/Programming-Word-Challenges/blob/main/Word_Challenges_Template_Colab_Python.ipynb\" target=\"_parent\"><img src=\"https://colab.research.google.com/assets/colab-badge.svg\" alt=\"Open In Colab\"/></a>"
      ]
    },
    {
      "cell_type": "markdown",
      "metadata": {
        "id": "N1i7igk3gfgq"
      },
      "source": [
        "Teachers, use this section to describe the challenge you want your students to do. \n",
        "\n",
        "For a list of possible challenges visit [here](https://github.com/pbeens/Programming-Word-Challenges/blob/main/README.md).\n",
        "\n",
        "The original of this Colab template can be found [on GitHub](https://github.com/pbeens/Programming-Word-Challenges/blob/main/Word_Challenges_Template_Colab_Python.ipynb). To use, simply click on the Open in Colab button, click on Copy to Drive, and rename appropriately.\n",
        "\n",
        "---\n",
        "\n"
      ]
    },
    {
      "cell_type": "code",
      "metadata": {
        "id": "0z3FZN7R_AkS"
      },
      "source": [
        "# This retreives the file from a \"gist\" and saves it locally. This specific file\n",
        "# contains the 1000 most-used words in the English language.\n",
        "!wget 'https://gist.githubusercontent.com/pbeens/274ccc9a9b4819c20e21a47072d146d1/raw/dc6200ee8e29c3d3d58af8fce06981b689e743c3/1000-top-words.txt'\n",
        "\n",
        "# This assigns the file to the variable 'file'.\n",
        "file = '/content/1000-top-words.txt'"
      ],
      "execution_count": 1,
      "outputs": [
        {
          "output_type": "stream",
          "name": "stderr",
          "text": [
            "'wget' is not recognized as an internal or external command,\noperable program or batch file.\n"
          ]
        }
      ]
    },
    {
      "cell_type": "code",
      "metadata": {
        "id": "CrIWbYmaD7A0"
      },
      "source": [
        "# open file and create list\n",
        "with open(file) as f:\n",
        "  words = f.read().split()\n",
        "\n",
        "# print the first 10 words\n",
        "print(words[:10])"
      ],
      "execution_count": null,
      "outputs": []
    },
    {
      "cell_type": "code",
      "metadata": {
        "id": "brLOPy2AcSze"
      },
      "source": [
        "# Your solution goes here!"
      ],
      "execution_count": 3,
      "outputs": []
    }
  ]
}