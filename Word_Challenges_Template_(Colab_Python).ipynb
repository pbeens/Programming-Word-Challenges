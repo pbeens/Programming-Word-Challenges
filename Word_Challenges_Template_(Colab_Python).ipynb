{
  "nbformat": 4,
  "nbformat_minor": 0,
  "metadata": {
    "colab": {
      "name": "Word Challenges Template (Colab - Python).ipynb",
      "provenance": [],
      "collapsed_sections": [],
      "include_colab_link": true
    },
    "kernelspec": {
      "name": "python3",
      "display_name": "Python 3"
    },
    "language_info": {
      "name": "python"
    }
  },
  "cells": [
    {
      "cell_type": "markdown",
      "metadata": {
        "id": "view-in-github",
        "colab_type": "text"
      },
      "source": [
        "<a href=\"https://colab.research.google.com/github/pbeens/Programming-Word-Challenges/blob/main/Word_Challenges_Template_(Colab_Python).ipynb\" target=\"_parent\"><img src=\"https://colab.research.google.com/assets/colab-badge.svg\" alt=\"Open In Colab\"/></a>"
      ]
    },
    {
      "cell_type": "code",
      "metadata": {
        "id": "0z3FZN7R_AkS"
      },
      "source": [
        "# this retreives the file from a gist and saves it locally\n",
        "!wget /resources/data/words.txt 'https://gist.githubusercontent.com/pbeens/274ccc9a9b4819c20e21a47072d146d1/raw/dc6200ee8e29c3d3d58af8fce06981b689e743c3/1000-top-words.txt'\n",
        "\n",
        "# this assigns the file to the variable 'file'\n",
        "file = '/content/1000-top-words.txt'"
      ],
      "execution_count": null,
      "outputs": []
    },
    {
      "cell_type": "code",
      "metadata": {
        "id": "CrIWbYmaD7A0"
      },
      "source": [
        "# open file and create list\n",
        "with open(file) as f:\n",
        "  words = f.read().split()\n",
        "\n",
        "# print the first 10 words\n",
        "print(words[:10])"
      ],
      "execution_count": null,
      "outputs": []
    },
    {
      "cell_type": "code",
      "metadata": {
        "id": "ezIKKoQtShaG"
      },
      "source": [
        "# Your solution goes here!\n"
      ],
      "execution_count": null,
      "outputs": []
    },
    {
      "cell_type": "markdown",
      "metadata": {
        "id": "sQ-eIamMgYJr"
      },
      "source": [
        "### Example Challenges\n",
        "\n",
        "* What are the longest words in the list?\n",
        "* If a-1, b=2, etc., what words add up to 100?\n",
        "* What is the longest word that ends with \"ar\". \n",
        "* What is the most common letter? Vowel? Consonant? \n",
        "* How many palindromes are in the list?\n",
        "* What's the longest word ladder list you can make. (A word ladder is a sequence of words where only one letter changes at a time. e.g., \"hit\" → \"hot\" → \"dot\")\n",
        "* What's the longest list you can make where you start with a two letter word, and then by reusing those letters and adding one more you can come up with another word. e.g., \"or\" → \"for\" → \"fort\")\n",
        "\n",
        "If you have any ideas for additional challenges, please mention them in the comments below and I will add it to this template."
      ]
    }
  ]
}