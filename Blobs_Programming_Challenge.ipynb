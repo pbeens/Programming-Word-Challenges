{
  "nbformat": 4,
  "nbformat_minor": 0,
  "metadata": {
    "colab": {
      "name": "Blobs Programming Challenge.ipynb",
      "provenance": [],
      "authorship_tag": "ABX9TyO7UdXI5aYryZwln9BSiyw7",
      "include_colab_link": true
    },
    "kernelspec": {
      "name": "python3",
      "display_name": "Python 3"
    },
    "language_info": {
      "name": "python"
    }
  },
  "cells": [
    {
      "cell_type": "markdown",
      "metadata": {
        "id": "view-in-github",
        "colab_type": "text"
      },
      "source": [
        "<a href=\"https://colab.research.google.com/github/pbeens/Programming-Word-Challenges/blob/main/Blobs_Programming_Challenge.ipynb\" target=\"_parent\"><img src=\"https://colab.research.google.com/assets/colab-badge.svg\" alt=\"Open In Colab\"/></a>"
      ]
    },
    {
      "cell_type": "markdown",
      "metadata": {
        "id": "txx-KA9PedOP"
      },
      "source": [
        "## Blobs\n",
        "\n",
        "A blob is an arrangement of at least 5 letters of the same kind that are connected. Any two letters are considered connected, when they are neighbours left-right or neighbours up-down. Diagonal neighbours are not considered connected. In the example below, for example, there is a Q-blob, a B-blob and a Y-blob. The A’s do not form a blob, because there are only 4 of them connected, (the group has two diagonal neighbours who are not part of the blob)\n",
        "\n",
        "```\n",
        "                        XAAFZQXBYYVED\n",
        "                        PAAPXQQCLYQWZ\n",
        "                        AMIATQQACYFUT\n",
        "                        BPSBBQZMKYHLJ\n",
        "                        RVBBBBQSNYAPZ\n",
        "                        GCIBBHKIZYFPY\n",
        "```\n",
        "Write a program that finds the number of bobs and the number of letters in the largest blob. If a particular rectangle is blob-free, indicate that with an appropriate statement, as in the example below.\n",
        "\n",
        "*This challenge is a former [ECOO contest challenge](https://ecoocs.org/), submitted by Doug Peterson.*"
      ]
    },
    {
      "cell_type": "markdown",
      "metadata": {
        "id": "oij-Adl1fsY-"
      },
      "source": [
        "## Intructions\n",
        "\n",
        "To use this template, simply click on the Open in Colab button, rename the document, and then click on Copy to Drive."
      ]
    },
    {
      "cell_type": "code",
      "metadata": {
        "id": "JSyOWVJaeved"
      },
      "source": [
        "# initialize the block of letters as variable 's'\n",
        "s = '''XAAFZQXBYYVED\n",
        "PAAPXQQCLYQWZ\n",
        "AMIATQQACYFUT\n",
        "BPSBBQZMKYHLJ\n",
        "RVBBBBQSNYAPZ\n",
        "GCIBBHKIZYFPY'''"
      ],
      "execution_count": null,
      "outputs": []
    },
    {
      "cell_type": "code",
      "metadata": {
        "id": "FnPF4Fu6f_rL"
      },
      "source": [
        "# your code goes here!"
      ],
      "execution_count": null,
      "outputs": []
    }
  ]
}